{
 "cells": [
  {
   "cell_type": "markdown",
   "metadata": {},
   "source": [
    "Get datasets"
   ]
  },
  {
   "cell_type": "code",
   "execution_count": null,
   "metadata": {},
   "outputs": [],
   "source": [
    "from os import listdir\n",
    "from os.path import isfile, join\n",
    "\n",
    "dataset_loc = 'datasets-benchmarked/datasets/'\n",
    "\n",
    "datasets_names = [f for f in listdir(dataset_loc) if isfile(join(dataset_loc, f))]\n",
    "datasets_names"
   ]
  },
  {
   "cell_type": "markdown",
   "metadata": {},
   "source": [
    "Build+Train ML-Models:"
   ]
  },
  {
   "cell_type": "code",
   "execution_count": null,
   "metadata": {},
   "outputs": [],
   "source": [
    "from flaml import AutoML\n",
    "import pandas as pd\n",
    "from sklearn.model_selection import train_test_split\n",
    "\n",
    "kwargs = dict(test_size=0.2, random_state=42)\n",
    "\n",
    "automl_models = dict()\n",
    "\n",
    "\n",
    "for dataset_name in datasets_names:\n",
    "  df = pd.read_csv(dataset_loc + dataset_name)\n",
    "  dataset_name_short = dataset_name[0:-9]\n",
    "  X, y = df.iloc[:, :-1], df.iloc[:, -1]\n",
    "  X_train, X_test, y_train, y_test = train_test_split(X, y, **kwargs)\n",
    "\n",
    "  automl = AutoML()\n",
    "  automl.fit(X_train, y_train, task=\"classification\", time_budget=10)\n",
    "\n",
    "  automl_models[dataset_name_short] = {\n",
    "    'name': dataset_name_short,\n",
    "    'df': df,\n",
    "    'X': X,\n",
    "    'y': y,\n",
    "    'X_train': X_train,\n",
    "    'X_test': X_test,\n",
    "    'y_train': y_train,\n",
    "    'y_test': y_test,\n",
    "    'model': automl,\n",
    "    'score': automl.score(X_test, y_test)\n",
    "  }"
   ]
  },
  {
   "cell_type": "markdown",
   "metadata": {},
   "source": [
    "Save-AutoML Models"
   ]
  },
  {
   "cell_type": "code",
   "execution_count": null,
   "metadata": {},
   "outputs": [],
   "source": [
    "import _pickle as cPickle\n",
    "\n",
    "with open(r\"automl-models.pickle\", \"wb\") as output_file:\n",
    "       cPickle.dump(automl_models, output_file)"
   ]
  }
 ],
 "metadata": {
  "kernelspec": {
   "display_name": "Python 3.10.0 64-bit",
   "language": "python",
   "name": "python3"
  },
  "language_info": {
   "codemirror_mode": {
    "name": "ipython",
    "version": 3
   },
   "file_extension": ".py",
   "mimetype": "text/x-python",
   "name": "python",
   "nbconvert_exporter": "python",
   "pygments_lexer": "ipython3",
   "version": "3.10.4"
  },
  "orig_nbformat": 4,
  "vscode": {
   "interpreter": {
    "hash": "98590ff4fe04c8543246b2a01debd3de3c5ca9b666f43f1fa87d5110c692004c"
   }
  }
 },
 "nbformat": 4,
 "nbformat_minor": 2
}
