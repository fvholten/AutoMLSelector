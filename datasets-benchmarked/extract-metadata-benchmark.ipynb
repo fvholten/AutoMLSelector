{
 "cells": [
  {
   "cell_type": "markdown",
   "metadata": {},
   "source": [
    "Get the imports :)"
   ]
  },
  {
   "cell_type": "code",
   "execution_count": 1,
   "metadata": {},
   "outputs": [],
   "source": [
    "import csv\n",
    "import openml as oml"
   ]
  },
  {
   "cell_type": "markdown",
   "metadata": {},
   "source": [
    "Read datasets from csv file"
   ]
  },
  {
   "cell_type": "code",
   "execution_count": 2,
   "metadata": {},
   "outputs": [
    {
     "name": "stdout",
     "output_type": "stream",
     "text": [
      "['3', '6', '11', '12', '14', '15', '16', '18', '20', '21', '22', '23', '24', '28', '29', '31', '32', '36', '37', '38', '42', '44', '46', '50', '54', '60', '150', '151', '179', '182', '188', '300', '307', '312', '333', '334', '335', '375', '377', '451', '458', '469', '470', '473', '554', '987', '1038', '1046', '1049', '1050', '1053', '1063', '1067', '1068', '1111', '1112', '1114', '1120', '1169', '1459', '1461', '1462', '1464', '1466', '1467', '1468', '1471', '1475', '1476', '1478', '1479', '1480', '1485', '1486', '1487', '1489', '1491', '1492', '1493', '1494', '1497', '1501', '1504', '1505', '1510', '1514', '1590', '1591', '1596', '4134', '4135', '4532', '4534', '4538', '4550', '6332', '23381', '23512', '23517', '40496', '40499', '40536', '40668', '40670', '40685', '40701', '40923', '40927', '40966', '40975', '40978', '40979', '40981', '40982', '40983', '40984', '40992', '40993', '40994', '40996', '41027', '41138', '41142', '41143', '41146', '41147', '41150', '41159', '41161', '41163', '41164', '41165', '41166', '41167', '41168', '41169']\n"
     ]
    }
   ],
   "source": [
    "dataset_ids = []\n",
    "\n",
    "with open('openml-datasets.csv') as csv_file:\n",
    "    csv_reader = csv.reader(csv_file, delimiter=',')\n",
    "\n",
    "    index = 0\n",
    "    for line in csv_reader:\n",
    "\n",
    "      if index != 0 and len(line) != 0:\n",
    "        dataset_ids.append(line[0])\n",
    "\n",
    "      index =+ 1\n",
    "    \n",
    "    csv_file.close\n",
    "\n",
    "print(dataset_ids)"
   ]
  },
  {
   "cell_type": "markdown",
   "metadata": {},
   "source": [
    "Load datasets with Ids from AutoML.org (Python API)"
   ]
  },
  {
   "cell_type": "code",
   "execution_count": 3,
   "metadata": {},
   "outputs": [],
   "source": [
    "datasets = oml.datasets.get_datasets(dataset_ids)"
   ]
  },
  {
   "cell_type": "markdown",
   "metadata": {},
   "source": [
    "Create Training-Data"
   ]
  },
  {
   "cell_type": "code",
   "execution_count": 43,
   "metadata": {},
   "outputs": [],
   "source": [
    "with open('openml-select.csv', 'w') as csv_file:\n",
    "  wr = csv.writer(csv_file, quoting=csv.QUOTE_ALL)\n",
    "  \n",
    "  firstRow = False\n",
    "  for dataset in datasets:\n",
    "  \n",
    "    if not firstRow:\n",
    "      firstRow = True\n",
    "      wr.writerow(['description'] + list(dataset.qualities.keys()))\n",
    "  \n",
    "    qualitiesValues = list(dataset.qualities.values())\n",
    "    \n",
    "    row =  [dataset.description] + list(map(str, qualitiesValues))\n",
    "    wr.writerow(row)"
   ]
  }
 ],
 "metadata": {
  "kernelspec": {
   "display_name": "Python 3.10.0 64-bit",
   "language": "python",
   "name": "python3"
  },
  "language_info": {
   "codemirror_mode": {
    "name": "ipython",
    "version": 3
   },
   "file_extension": ".py",
   "mimetype": "text/x-python",
   "name": "python",
   "nbconvert_exporter": "python",
   "pygments_lexer": "ipython3",
   "version": "3.10.1"
  },
  "orig_nbformat": 4,
  "vscode": {
   "interpreter": {
    "hash": "98590ff4fe04c8543246b2a01debd3de3c5ca9b666f43f1fa87d5110c692004c"
   }
  }
 },
 "nbformat": 4,
 "nbformat_minor": 2
}
