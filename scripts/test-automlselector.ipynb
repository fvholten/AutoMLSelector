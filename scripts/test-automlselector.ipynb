{
 "cells": [
  {
   "cell_type": "markdown",
   "metadata": {},
   "source": [
    "# Script to evaluate the ML-Models\n",
    "\n",
    "Setup (load automl-models.pickle)"
   ]
  },
  {
   "cell_type": "code",
   "execution_count": null,
   "metadata": {},
   "outputs": [],
   "source": [
    "import pickle\n",
    "import csv\n",
    "\n",
    "with open(r\"../app/_meta.csv\") as csv_file:\n",
    "  csv_reader = csv.reader(csv_file, delimiter=',')\n",
    "  list_qualities = list()\n",
    "  for line in csv_reader:\n",
    "    list_qualities.append(line[0])\n",
    "  list_qualities = list_qualities[1:]\n",
    "\n",
    "\n",
    "with open(r\"../app/ml-models.pickle\", \"rb\") as input_file:\n",
    "  ml_models = pickle.load(input_file)"
   ]
  },
  {
   "cell_type": "markdown",
   "metadata": {},
   "source": [
    "Inspect the score:"
   ]
  },
  {
   "cell_type": "code",
   "execution_count": null,
   "metadata": {},
   "outputs": [],
   "source": [
    "sum_scores = 0\n",
    "for key, value in ml_models.items():\n",
    "  print(key, ':', value.get('score'))\n",
    "  sum_scores += value.get('score')\n",
    "print()\n",
    "print('Average:', \"{:.2f}\".format(100*sum_scores/len(ml_models), 2), '%')"
   ]
  },
  {
   "cell_type": "markdown",
   "metadata": {},
   "source": [
    "Test with a random dataset:"
   ]
  },
  {
   "cell_type": "code",
   "execution_count": null,
   "metadata": {},
   "outputs": [],
   "source": [
    "import openml as oml\n",
    "import pandas as pd"
   ]
  },
  {
   "cell_type": "code",
   "execution_count": null,
   "metadata": {},
   "outputs": [],
   "source": [
    "dataset = oml.datasets.get_dataset(12)"
   ]
  },
  {
   "cell_type": "code",
   "execution_count": null,
   "metadata": {},
   "outputs": [],
   "source": [
    "t = dict()\n",
    "\n",
    "for quality in list_qualities:\n",
    "  t[quality] = [dataset.qualities.get(quality)]\n",
    "test_df = pd.DataFrame(t)\n",
    "\n",
    "for key, value in ml_models.items():\n",
    "  aml = value.get('model')\n",
    "  print(key, ':', aml.predict(test_df))"
   ]
  },
  {
   "cell_type": "code",
   "execution_count": null,
   "metadata": {},
   "outputs": [],
   "source": [
    "for key, value in ml_models.items():\n",
    "  aml = value.get('model')\n",
    "  print(key, ':', aml.best_estimator)"
   ]
  },
  {
   "cell_type": "code",
   "execution_count": null,
   "metadata": {},
   "outputs": [],
   "source": [
    "from sklearn.inspection import permutation_importance\n",
    "import numpy as np\n",
    "import pandas as pd\n",
    "\n",
    "results = dict()\n",
    "\n",
    "for key in ml_models.keys():\n",
    "  ml_model_dict = ml_models.get(key)\n",
    "  model, X, y = ml_model_dict.get('model'), ml_model_dict.get('X'), ml_model_dict.get('y')\n",
    "  np.nan_to_num(X)\n",
    "  result = permutation_importance(model,\n",
    "                                X,\n",
    "                                y,\n",
    "                                n_repeats=10,\n",
    "                                random_state=42,\n",
    "                                n_jobs=-1)\n",
    "  results[key] = result"
   ]
  },
  {
   "cell_type": "code",
   "execution_count": null,
   "metadata": {},
   "outputs": [],
   "source": [
    "import matplotlib.pyplot as plt\n",
    "\n",
    "for key, result in results.items(): \n",
    "  sorted_idx = result.importances_mean.argsort()[-5:]      \n",
    "  fig, ax = plt.subplots()\n",
    "  ax.boxplot(result.importances[sorted_idx].T,\n",
    "           vert=False,\n",
    "           labels=X.columns[sorted_idx])\n",
    "  fig.tight_layout()\n",
    "  plt.savefig('graphs/' + key + '-features.png', dpi=300)"
   ]
  }
 ],
 "metadata": {
  "kernelspec": {
   "display_name": "Python 3.10.0 64-bit",
   "language": "python",
   "name": "python3"
  },
  "language_info": {
   "codemirror_mode": {
    "name": "ipython",
    "version": 3
   },
   "file_extension": ".py",
   "mimetype": "text/x-python",
   "name": "python",
   "nbconvert_exporter": "python",
   "pygments_lexer": "ipython3",
   "version": "3.10.1"
  },
  "orig_nbformat": 4,
  "vscode": {
   "interpreter": {
    "hash": "98590ff4fe04c8543246b2a01debd3de3c5ca9b666f43f1fa87d5110c692004c"
   }
  }
 },
 "nbformat": 4,
 "nbformat_minor": 2
}
