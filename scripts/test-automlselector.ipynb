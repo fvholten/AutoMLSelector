{
 "cells": [
  {
   "cell_type": "markdown",
   "metadata": {},
   "source": [
    "# Script to evaluate the ML-Models\n",
    "\n",
    "Setup (load automl-models.pickle)"
   ]
  },
  {
   "cell_type": "code",
   "execution_count": 4,
   "metadata": {},
   "outputs": [],
   "source": [
    "import pickle\n",
    "import csv\n",
    "\n",
    "with open(r\"../app/_meta.csv\") as csv_file:\n",
    "  csv_reader = csv.reader(csv_file, delimiter=',')\n",
    "  list_qualities = list()\n",
    "  for line in csv_reader:\n",
    "    list_qualities.append(line[0])\n",
    "  list_qualities = list_qualities[1:]\n",
    "\n",
    "with open(r\"../app/automl.pkl\", \"rb\") as input_file:\n",
    "  automl = pickle.load(input_file)"
   ]
  },
  {
   "cell_type": "markdown",
   "metadata": {},
   "source": [
    "### Inspect the score:"
   ]
  },
  {
   "cell_type": "code",
   "execution_count": 5,
   "metadata": {},
   "outputs": [
    {
     "name": "stdout",
     "output_type": "stream",
     "text": [
      "Best ML leaner: lgbm\n",
      "Best hyperparmeter config: {'n_estimators': 13, 'num_leaves': 16, 'min_child_samples': 5, 'learning_rate': 0.10208652042099983, 'log_max_bin': 4, 'colsample_bytree': 0.22250894882726385, 'reg_alpha': 0.06773184541058815, 'reg_lambda': 0.6364917072348221}\n",
      "Best accuracy on validation data: 0.9078\n",
      "Training duration of best run: 0.03407 s\n"
     ]
    }
   ],
   "source": [
    "'''retrieve best config and best learner'''\n",
    "print('Best ML leaner:', automl.best_estimator)\n",
    "print('Best hyperparmeter config:', automl.best_config)\n",
    "print('Best accuracy on validation data: {0:.4g}'.format(1-automl.best_loss))\n",
    "print('Training duration of best run: {0:.4g} s'.format(automl.best_config_train_time))"
   ]
  },
  {
   "cell_type": "markdown",
   "metadata": {},
   "source": [
    "Test with a random dataset:"
   ]
  },
  {
   "cell_type": "code",
   "execution_count": 6,
   "metadata": {},
   "outputs": [
    {
     "name": "stdout",
     "output_type": "stream",
     "text": [
      "{'ATM': 0.33244946930576386, 'AutoGluon': 0.03653372798431604, 'FLAML': 0.3807543566359782, 'H2O AutoML': 0.046558618179186294, 'Hyperopt-Sklearn': 0.07650011194626957, 'TPOT': 0.0507654906680126, 'TransmogrifAI': 0.03947650333921017, 'auto-sklearn': 0.03696172194126312}\n",
      "FLAML\n"
     ]
    }
   ],
   "source": [
    "import openml as oml\n",
    "import pandas as pd\n",
    "\n",
    "dataset = oml.datasets.get_dataset(12)\n",
    "\n",
    "t = dict()\n",
    "\n",
    "for quality in list_qualities:\n",
    "  t[quality] = [dataset.qualities.get(quality)]\n",
    "test_df = pd.DataFrame(t)\n",
    "print(dict(zip(automl.classes_, automl.predict_proba(test_df)[0])))\n",
    "print(automl.predict(test_df)[0])"
   ]
  },
  {
   "cell_type": "code",
   "execution_count": 7,
   "metadata": {},
   "outputs": [
    {
     "data": {
      "text/plain": [
       "array(['ATM', 'AutoGluon', 'FLAML', 'H2O AutoML', 'Hyperopt-Sklearn',\n",
       "       'TPOT', 'TransmogrifAI', 'auto-sklearn'], dtype=object)"
      ]
     },
     "execution_count": 7,
     "metadata": {},
     "output_type": "execute_result"
    }
   ],
   "source": [
    "automl.classes_"
   ]
  },
  {
   "cell_type": "code",
   "execution_count": 8,
   "metadata": {},
   "outputs": [],
   "source": [
    "import lightgbm as lgb\n",
    "import matplotlib.pyplot as plt"
   ]
  },
  {
   "cell_type": "markdown",
   "metadata": {},
   "source": [
    "https://lightgbm.readthedocs.io/en/latest/pythonapi/lightgbm.plot_importance.html"
   ]
  },
  {
   "cell_type": "code",
   "execution_count": null,
   "metadata": {},
   "outputs": [],
   "source": [
    "print(*automl.model.estimator.feature_name_, sep = \"\\n\")"
   ]
  },
  {
   "cell_type": "code",
   "execution_count": 29,
   "metadata": {},
   "outputs": [
    {
     "data": {
      "image/png": "[encoded data removed]",
      "text/plain": [
       "<Figure size 432x288 with 1 Axes>"
      ]
     },
     "metadata": {
      "needs_background": "light"
     },
     "output_type": "display_data"
    }
   ],
   "source": [
    "import matplotlib.pyplot as plt\n",
    "import numpy as np\n",
    "from flaml.data import get_output_from_log\n",
    "import matplotlib.ticker as ticker\n",
    "\n",
    "\n",
    "time_history, best_valid_loss_history, valid_loss_history, config_history, metric_history = \\\n",
    "    get_output_from_log(filename='logs/automl2022-09-13 14_03_26.970893.log', time_budget=8*60*60)\n",
    "\n",
    "fig, ax = plt.subplots(1, 1)\n",
    "\n",
    "ax.scatter(time_history, 1 - np.array(valid_loss_history))\n",
    "time_history.append(8*60*60)\n",
    "best_valid_loss_history.append(best_valid_loss_history[len(best_valid_loss_history)-1])\n",
    "ax.step(time_history, 1 - np.array(best_valid_loss_history), where='post')\n",
    "\n",
    "ax.set_xscale('log')\n",
    "ax.set_xticks([1, 4, 16, 64, 256, 1024, 4096, 8*60*60])\n",
    "ax.set_xlim(right=8*60*60)\n",
    "ax.get_xaxis().set_major_formatter(ticker.ScalarFormatter())\n",
    "\n",
    "plt.title('Learning Curve')\n",
    "plt.xlabel('Wall Clock Time in seconds (log-scale)')\n",
    "plt.ylabel('Validation Accuracy')\n",
    "\n",
    "plt.savefig('graphs/multi-class-learning-curve.png', dpi=300, bbox_inches=\"tight\")"
   ]
  }
 ],
 "metadata": {
  "kernelspec": {
   "display_name": "Python 3.10.0 64-bit",
   "language": "python",
   "name": "python3"
  },
  "language_info": {
   "codemirror_mode": {
    "name": "ipython",
    "version": 3
   },
   "file_extension": ".py",
   "mimetype": "text/x-python",
   "name": "python",
   "nbconvert_exporter": "python",
   "pygments_lexer": "ipython3",
   "version": "3.10.4"
  },
  "orig_nbformat": 4,
  "vscode": {
   "interpreter": {
    "hash": "98590ff4fe04c8543246b2a01debd3de3c5ca9b666f43f1fa87d5110c692004c"
   }
  }
 },
 "nbformat": 4,
 "nbformat_minor": 2
}
