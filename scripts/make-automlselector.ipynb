{
 "cells": [
  {
   "cell_type": "markdown",
   "metadata": {},
   "source": [
    "# Script for training the ML-Models"
   ]
  },
  {
   "cell_type": "markdown",
   "metadata": {},
   "source": [
    "Get datasets"
   ]
  },
  {
   "cell_type": "code",
   "execution_count": null,
   "metadata": {},
   "outputs": [],
   "source": [
    "from os import listdir\n",
    "from os.path import isfile, join\n",
    "\n",
    "dataset_loc = 'training-data/'\n",
    "\n",
    "datasets_names = [f for f in listdir(dataset_loc) if isfile(join(dataset_loc, f))]"
   ]
  },
  {
   "cell_type": "markdown",
   "metadata": {},
   "source": [
    "Build+Train ML-Models:"
   ]
  },
  {
   "cell_type": "code",
   "execution_count": null,
   "metadata": {},
   "outputs": [],
   "source": [
    "from flaml import AutoML\n",
    "import pandas as pd\n",
    "from datetime import datetime\n",
    "\n",
    "automl_models = dict()\n",
    "\n",
    "for dataset_name in datasets_names:\n",
    "  df = pd.read_csv(dataset_loc + dataset_name)\n",
    "  dataset_name_short = dataset_name[0:-9]\n",
    "  X_train, y_train = df.iloc[:, :-1], df.iloc[:, -1]\n",
    "\n",
    "  automl_settings = {\n",
    "    \"task\": \"classification\",\n",
    "    \"time_budget\": 2*60,\n",
    "    \"metric\": 'accuracy',\n",
    "    \"log_file_name\": 'logs/{}{}.log'.format(dataset_name, datetime.now())    \n",
    "  }\n",
    "\n",
    "  automl = AutoML()\n",
    "  automl.fit(X_train, y_train, **automl_settings)\n",
    "\n",
    "  automl_models[dataset_name_short] = {\n",
    "    'model': automl\n",
    "  }"
   ]
  },
  {
   "cell_type": "markdown",
   "metadata": {},
   "source": [
    "Save-AutoML Models"
   ]
  },
  {
   "cell_type": "code",
   "execution_count": null,
   "metadata": {},
   "outputs": [],
   "source": [
    "import pickle\n",
    "\n",
    "with open(r'../app/ml-models.pickle', \"wb\") as output_file:\n",
    "  pickle.dump(automl_models, output_file, -1)"
   ]
  }
 ],
 "metadata": {
  "kernelspec": {
   "display_name": "Python 3.10.0 64-bit",
   "language": "python",
   "name": "python3"
  },
  "language_info": {
   "codemirror_mode": {
    "name": "ipython",
    "version": 3
   },
   "file_extension": ".py",
   "mimetype": "text/x-python",
   "name": "python",
   "nbconvert_exporter": "python",
   "pygments_lexer": "ipython3",
   "version": "3.10.1"
  },
  "orig_nbformat": 4,
  "vscode": {
   "interpreter": {
    "hash": "98590ff4fe04c8543246b2a01debd3de3c5ca9b666f43f1fa87d5110c692004c"
   }
  }
 },
 "nbformat": 4,
 "nbformat_minor": 2
}
