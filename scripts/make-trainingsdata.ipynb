{
 "cells": [
  {
   "cell_type": "markdown",
   "metadata": {},
   "source": [
    "# Make the trainings data-script\n",
    "\n",
    "#### Read datasets from csv file"
   ]
  },
  {
   "cell_type": "code",
   "execution_count": null,
   "metadata": {},
   "outputs": [],
   "source": [
    "import csv\n",
    "\n",
    "dataset_ids = []\n",
    "dataset_id_tool_dict = {}\n",
    "automltools = set()\n",
    "\n",
    "with open('assets/openml-datasets.csv') as csv_file:\n",
    "    csv_reader = csv.reader(csv_file, delimiter=',')\n",
    "\n",
    "    index = 0\n",
    "    best_tool = 0\n",
    "    for line in csv_reader:\n",
    "      if index == 0:\n",
    "        best_tool = len(line)-1\n",
    "\n",
    "      if index != 0 and len(line) != 0:\n",
    "        dataset_ids.append(line[0])\n",
    "        dataset_id_tool_dict[int(line[0])] = line[best_tool].split('/')\n",
    "\n",
    "        automltools |= set(line[best_tool].split('/'))\n",
    "\n",
    "      index =+ 1"
   ]
  },
  {
   "cell_type": "markdown",
   "metadata": {},
   "source": [
    "#### Load datasets with Ids from AutoML.org (Python API)"
   ]
  },
  {
   "cell_type": "code",
   "execution_count": null,
   "metadata": {},
   "outputs": [],
   "source": [
    "import openml as oml"
   ]
  },
  {
   "cell_type": "code",
   "execution_count": null,
   "metadata": {},
   "outputs": [],
   "source": [
    "datasets = oml.datasets.get_datasets(dataset_ids)\n",
    "list_qualities = oml.datasets.list_qualities()"
   ]
  },
  {
   "cell_type": "markdown",
   "metadata": {},
   "source": [
    "#### Save qualities to `_meta.csv`"
   ]
  },
  {
   "cell_type": "code",
   "execution_count": null,
   "metadata": {},
   "outputs": [],
   "source": [
    "with open('../app/_meta.csv', 'w') as csv_file:\n",
    "  wr = csv.writer(csv_file, quoting=csv.QUOTE_MINIMAL)\n",
    "  wr.writerow(['Field_Name'])\n",
    "  for q in list_qualities:\n",
    "    wr.writerow([q])"
   ]
  },
  {
   "cell_type": "markdown",
   "metadata": {},
   "source": [
    "Create training-data's in `training-data/`:"
   ]
  },
  {
   "cell_type": "code",
   "execution_count": null,
   "metadata": {},
   "outputs": [],
   "source": [
    "for automltool in automltools:\n",
    "\n",
    "  with open('training-data/' + automltool + '-data.csv', 'w') as csv_file:\n",
    "    wr = csv.writer(csv_file, quoting=csv.QUOTE_MINIMAL)\n",
    "    \n",
    "    firstRow = False\n",
    "    head = list()\n",
    "    for dataset in datasets:\n",
    "    \n",
    "      if not firstRow:\n",
    "        firstRow = True\n",
    "        head = list_qualities + [automltool]\n",
    "        wr.writerow(head)\n",
    "      \n",
    "      row = list()\n",
    "\n",
    "      for quality in list_qualities:\n",
    "        row.append(dataset.qualities.get(quality))\n",
    "      row.append(int(automltool in dataset_id_tool_dict.get(dataset.dataset_id)))\n",
    "      wr.writerow(row)"
   ]
  }
 ],
 "metadata": {
  "kernelspec": {
   "display_name": "Python 3.10.0 64-bit",
   "language": "python",
   "name": "python3"
  },
  "language_info": {
   "codemirror_mode": {
    "name": "ipython",
    "version": 3
   },
   "file_extension": ".py",
   "mimetype": "text/x-python",
   "name": "python",
   "nbconvert_exporter": "python",
   "pygments_lexer": "ipython3",
   "version": "3.10.1"
  },
  "orig_nbformat": 4,
  "vscode": {
   "interpreter": {
    "hash": "98590ff4fe04c8543246b2a01debd3de3c5ca9b666f43f1fa87d5110c692004c"
   }
  }
 },
 "nbformat": 4,
 "nbformat_minor": 2
}
